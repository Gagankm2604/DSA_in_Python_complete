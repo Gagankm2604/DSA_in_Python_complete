{
 "cells": [
  {
   "cell_type": "markdown",
   "id": "dc38e302",
   "metadata": {},
   "source": [
    "File Handling in Python"
   ]
  },
  {
   "cell_type": "code",
   "execution_count": 1,
   "id": "ce894472",
   "metadata": {},
   "outputs": [
    {
     "name": "stdout",
     "output_type": "stream",
     "text": [
      "Hello , Hi \n",
      "This is a new file line\n",
      "\n"
     ]
    }
   ],
   "source": [
    "# Reading the whole file at once\n",
    "with open('example.txt','r')as file:\n",
    "    content=file.read()\n",
    "    print(content)\n"
   ]
  },
  {
   "cell_type": "code",
   "execution_count": 2,
   "id": "7c449ade",
   "metadata": {},
   "outputs": [
    {
     "name": "stdout",
     "output_type": "stream",
     "text": [
      "Hello , Hi\n",
      "This is a new file line\n"
     ]
    }
   ],
   "source": [
    "#read a file line by line\n",
    "with open('example.txt','r')as file:\n",
    "    for line in file:\n",
    "        # print(line)\n",
    "        print(line.strip())"
   ]
  },
  {
   "cell_type": "code",
   "execution_count": 3,
   "id": "332bb77e",
   "metadata": {},
   "outputs": [],
   "source": [
    "#writing the file (overwriting)\n",
    "with open('example.txt','w')as file:\n",
    "    file.write(\"I love python\\n\")"
   ]
  },
  {
   "cell_type": "code",
   "execution_count": 5,
   "id": "a45d502b",
   "metadata": {},
   "outputs": [],
   "source": [
    "\n",
    "#writing to a file without overwriting\n",
    "with open('example.txt','a')as file:\n",
    "    file.write('I am appendding the new line ')"
   ]
  },
  {
   "cell_type": "code",
   "execution_count": 6,
   "id": "59dc0e0d",
   "metadata": {},
   "outputs": [],
   "source": [
    "#writing list of lines to file\n",
    "lines=['first line\\n','second line\\n','third line\\n']\n",
    "with open('example.txt','a')as file:\n",
    "    file.writelines(lines)\n",
    "    "
   ]
  },
  {
   "cell_type": "code",
   "execution_count": 8,
   "id": "4a672879",
   "metadata": {},
   "outputs": [
    {
     "name": "stdout",
     "output_type": "stream",
     "text": [
      "b''\n"
     ]
    }
   ],
   "source": [
    "#working with binary files\n",
    "data=b'\\x00\\x01\\x02\\x03\\x04\\x05\\x06\\x07'\n",
    "# with open('example.bin','wb')as file:\n",
    "#     file.write(data)\n",
    "\n",
    "with open('example.bin','rb')as file:\n",
    "    content=file.read()\n",
    "    print(content)"
   ]
  },
  {
   "cell_type": "code",
   "execution_count": 13,
   "id": "6206214b",
   "metadata": {},
   "outputs": [],
   "source": [
    "#reading from a source and writing to a destination\n",
    "\n",
    "with open('example.txt','r')as file:\n",
    "    content=file.read()\n",
    "\n",
    "with open('destination.txt','w')as dest_file:\n",
    "    dest_file.write(content)"
   ]
  },
  {
   "cell_type": "code",
   "execution_count": 9,
   "id": "2fed0663",
   "metadata": {},
   "outputs": [
    {
     "name": "stdout",
     "output_type": "stream",
     "text": [
      "I love python\n",
      "I am appendding the new line I am appendding the new line first line\n",
      "second line\n",
      "third line\n",
      "\n",
      "no of lines is 4\n",
      "no of words is 21\n",
      "no of characters 106\n"
     ]
    }
   ],
   "source": [
    "# read the file and count the no of lines , characters and words\n",
    "\n",
    "with open('example.txt','r')as file:\n",
    "    content=file.read()\n",
    "    print(content)\n",
    "    print(f'no of lines is {len(content.splitlines())}') #count lines and here splitlines() is used to seperate lines \n",
    "    print(f'no of words is {len(content.split())}')      #count the words and here split() is used to seperate the words\n",
    "    print(f'no of characters {len(content)}')"
   ]
  },
  {
   "cell_type": "code",
   "execution_count": 10,
   "id": "a737f4bf",
   "metadata": {},
   "outputs": [
    {
     "name": "stdout",
     "output_type": "stream",
     "text": [
      "Hello , Hi \n",
      "This is a new file line\n",
      "\n"
     ]
    }
   ],
   "source": [
    "# writing and then reading a file\n",
    "#w+ mode \n",
    "\n",
    "with open('example.txt','w+')as file:\n",
    "    file.write('Hello , Hi \\n')\n",
    "    file.write('This is a new file line\\n')\n",
    "\n",
    "    #move the cursor to beginning of file\n",
    "    file.seek(0) #move the cursor to beginning of file to 0 index\n",
    "\n",
    "    #reading content\n",
    "    content=file.read()\n",
    "    print(content)\n"
   ]
  },
  {
   "cell_type": "markdown",
   "id": "4c67101c",
   "metadata": {},
   "source": [
    "working with file paths"
   ]
  },
  {
   "cell_type": "code",
   "execution_count": 11,
   "id": "a3fb2755",
   "metadata": {},
   "outputs": [
    {
     "name": "stdout",
     "output_type": "stream",
     "text": [
      "the current working directory is /workspaces/DSA_in_Python_complete/file_handling\n"
     ]
    }
   ],
   "source": [
    "#dealig with file paths\n",
    "\n",
    "import os\n",
    "#getting current working directory\n",
    "\n",
    "current_directory = os.getcwd()\n",
    "print(f'the current working directory is {current_directory}')"
   ]
  },
  {
   "cell_type": "code",
   "execution_count": 12,
   "id": "bb0451ff",
   "metadata": {},
   "outputs": [],
   "source": [
    "#making new directory\n",
    "\n",
    "new_directory=\"Gagan new directory\"\n",
    "os.mkdir(new_directory)\n"
   ]
  },
  {
   "cell_type": "code",
   "execution_count": 13,
   "id": "033a849a",
   "metadata": {},
   "outputs": [
    {
     "name": "stdout",
     "output_type": "stream",
     "text": [
      "['filehandling.ipynb', 'example.txt', 'example.bin', 'filehandlingquestions.ipynb', 'Gagan new directory', 'filehandlingsolution.ipynb']\n"
     ]
    }
   ],
   "source": [
    "#listing files and directories in current directory\n",
    "\n",
    "files_and_directory=os.listdir('.')\n",
    "print(files_and_directory)"
   ]
  },
  {
   "cell_type": "code",
   "execution_count": 14,
   "id": "c1ee029b",
   "metadata": {},
   "outputs": [
    {
     "name": "stdout",
     "output_type": "stream",
     "text": [
      "/workspaces/DSA_in_Python_complete/file_handling/Gagan new directory/example.txt\n"
     ]
    },
    {
     "data": {
      "text/plain": [
       "'/workspaces/DSA_in_Python_complete/file_handling'"
      ]
     },
     "execution_count": 14,
     "metadata": {},
     "output_type": "execute_result"
    }
   ],
   "source": [
    "#joining paths\n",
    "\n",
    "dir_name=\"Gagan new directory\"\n",
    "file_name='example.txt'\n",
    "full_path=os.path.join(os.getcwd(),dir_name,file_name)\n",
    "print(full_path)\n",
    "os.getcwd()"
   ]
  },
  {
   "cell_type": "code",
   "execution_count": 15,
   "id": "5b49fceb",
   "metadata": {},
   "outputs": [
    {
     "name": "stdout",
     "output_type": "stream",
     "text": [
      "hi.txt dont exists\n"
     ]
    }
   ],
   "source": [
    "#checking for existence of file or dir\n",
    "path=\"hi.txt\"\n",
    "if os.path.exists(path):\n",
    "    print(f\"{path} exists\")\n",
    "\n",
    "else:\n",
    "    print(f'{path} dont exists')"
   ]
  },
  {
   "cell_type": "code",
   "execution_count": 16,
   "id": "8453c556",
   "metadata": {},
   "outputs": [
    {
     "name": "stdout",
     "output_type": "stream",
     "text": [
      "hi.txt created\n"
     ]
    }
   ],
   "source": [
    "#creating file if not exists\n",
    "#checking for existence of file or dir\n",
    "path=\"hi.txt\"\n",
    "if os.path.exists(path):\n",
    "    print(f\"{path} exists\")\n",
    "\n",
    "else:\n",
    "    with open(path, 'w') as f:\n",
    "        f.write(content)\n",
    "        print(f\"{path} created\")"
   ]
  },
  {
   "cell_type": "code",
   "execution_count": 17,
   "id": "4321694a",
   "metadata": {},
   "outputs": [],
   "source": [
    "#creating a file in directory specified\n",
    "\n",
    "dir_name=\"Gagan new directory\"\n",
    "file_name='Gagan.txt'\n",
    "full_path=os.path.join(os.getcwd(),dir_name,file_name)\n",
    "with open(full_path,'w')as file:\n",
    "    file.write('this is a new file\\n')\n",
    "    "
   ]
  },
  {
   "cell_type": "code",
   "execution_count": 18,
   "id": "d2c83aa1",
   "metadata": {},
   "outputs": [
    {
     "name": "stdout",
     "output_type": "stream",
     "text": [
      "/workspaces/DSA_in_Python_complete/file_handling/Gagan.txt\n"
     ]
    }
   ],
   "source": [
    "relative_path='Gagan.txt'\n",
    "absolute_path=os.path.abspath(relative_path)\n",
    "print(absolute_path)"
   ]
  }
 ],
 "metadata": {
  "kernelspec": {
   "display_name": "Python 3",
   "language": "python",
   "name": "python3"
  },
  "language_info": {
   "codemirror_mode": {
    "name": "ipython",
    "version": 3
   },
   "file_extension": ".py",
   "mimetype": "text/x-python",
   "name": "python",
   "nbconvert_exporter": "python",
   "pygments_lexer": "ipython3",
   "version": "3.12.1"
  }
 },
 "nbformat": 4,
 "nbformat_minor": 5
}
